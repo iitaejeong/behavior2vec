{
  "cells": [
    {
      "cell_type": "markdown",
      "metadata": {
        "id": "view-in-github",
        "colab_type": "text"
      },
      "source": [
        "<a href=\"https://colab.research.google.com/github/iitaejeong/behavior2vec/blob/main/graph2vec.ipynb\" target=\"_parent\"><img src=\"https://colab.research.google.com/assets/colab-badge.svg\" alt=\"Open In Colab\"/></a>"
      ]
    },
    {
      "cell_type": "code",
      "execution_count": null,
      "id": "96212e66",
      "metadata": {
        "ExecuteTime": {
          "end_time": "2022-10-21T00:33:47.833834Z",
          "start_time": "2022-10-21T00:33:46.614854Z"
        },
        "id": "96212e66"
      },
      "outputs": [],
      "source": [
        "import os\n",
        "import json\n",
        "import glob\n",
        "import hashlib\n",
        "import pandas as pd\n",
        "import numpy as np\n",
        "import networkx as nx\n",
        "import psycopg2 as pg2\n",
        "\n",
        "from tqdm import tqdm\n",
        "from gensim.models.doc2vec import Doc2Vec, TaggedDocument\n",
        "import random\n",
        "import gc\n",
        "import matplotlib.pyplot as plt\n",
        "import collections\n",
        "\n",
        "conn = pg2.connect(database=graph_env['database']\\\n",
        "                       , user=graph_env['user']\\\n",
        "                       , host=graph_env['host']\\\n",
        "                       , port=graph_env['port'])"
      ]
    },
    {
      "cell_type": "markdown",
      "id": "bd4928a3",
      "metadata": {
        "id": "bd4928a3"
      },
      "source": [
        "# data loading"
      ]
    },
    {
      "cell_type": "code",
      "execution_count": null,
      "id": "19188f25",
      "metadata": {
        "ExecuteTime": {
          "end_time": "2022-10-21T00:33:48.434145Z",
          "start_time": "2022-10-21T00:33:47.837274Z"
        },
        "id": "19188f25"
      },
      "outputs": [],
      "source": [
        "# data loading\n",
        "query = 'SELECT distinct(cust_pty_sbt_id) FROM tb_wed_com_prof'\n",
        "cust_list = pd.read_sql(query, con=conn)\n",
        "# 랜덤 cust 한 명 추출.\n",
        "cust_id = random.choice(cust_list['cust_pty_sbt_id'])\n",
        "\n",
        "\n",
        "# sgi node\n",
        "query = f\"SELECT * FROM tb_wed_sgi WHERE cust_pty_sbt_id LIKE '%{cust_id}%'\"\n",
        "sgidf = pd.read_sql(query, con=conn)\n",
        "\n",
        "# cdr node\n",
        "query = f\"SELECT * FROM tb_wed_cdr WHERE cust_pty_sbt_id LIKE '%{cust_id}%'\"\n",
        "cdrdf = pd.read_sql(query, con=conn)\n",
        "\n",
        "# s1ap node\n",
        "query = f\"SELECT * FROM tb_wed_s1ap WHERE cust_pty_sbt_id LIKE '%{cust_id}%'\"\n",
        "s1apdf = pd.read_sql(query, con=conn)"
      ]
    },
    {
      "cell_type": "markdown",
      "id": "91bd92df",
      "metadata": {
        "id": "91bd92df"
      },
      "source": [
        "# data preprocessing "
      ]
    },
    {
      "cell_type": "code",
      "execution_count": null,
      "id": "56c5daf0",
      "metadata": {
        "ExecuteTime": {
          "end_time": "2022-10-21T00:33:48.445755Z",
          "start_time": "2022-10-21T00:33:48.438627Z"
        },
        "id": "56c5daf0"
      },
      "outputs": [],
      "source": [
        "sgi_feature = ['cust_pty_sbt_id',\n",
        "                'base_date',\n",
        "                'timezn_div_cd',\n",
        "                'svc_nm',\n",
        "                'byte_size']\n",
        "sgidf_ = sgidf[sgi_feature].copy()"
      ]
    },
    {
      "cell_type": "code",
      "execution_count": null,
      "id": "42cd49e7",
      "metadata": {
        "ExecuteTime": {
          "end_time": "2022-10-21T00:33:48.452663Z",
          "start_time": "2022-10-21T00:33:48.448312Z"
        },
        "id": "42cd49e7"
      },
      "outputs": [],
      "source": [
        "cdr_feature = ['cust_pty_sbt_id',\n",
        "               'base_date',\n",
        "               'timezn_div_cd',\n",
        "               'tpn114_lctg_cd',\n",
        "               #'tpn114_ttsctg_cd',\n",
        "               'tpn114_tsctg_nm',\n",
        "               'rcv_tlk_time',\n",
        "               'snd_tlk_time']\n",
        "cdrdf_ = cdrdf[cdr_feature].copy()"
      ]
    },
    {
      "cell_type": "code",
      "execution_count": null,
      "id": "5be5fe54",
      "metadata": {
        "ExecuteTime": {
          "end_time": "2022-10-21T00:33:48.458858Z",
          "start_time": "2022-10-21T00:33:48.454743Z"
        },
        "id": "5be5fe54"
      },
      "outputs": [],
      "source": [
        "s1ap_feature = ['cust_pty_sbt_id',\n",
        "          'base_date',\n",
        "          'timezn_div_cd',\n",
        "          'address',\n",
        "          'stay_time',\n",
        "          'mov_radis_dist',\n",
        "          'wday_eweek_div_nm'\n",
        "         ]\n",
        "s1apdf_ = s1apdf[s1ap_feature].copy()"
      ]
    },
    {
      "cell_type": "code",
      "execution_count": null,
      "id": "73c1fb1f",
      "metadata": {
        "ExecuteTime": {
          "end_time": "2022-10-21T00:33:48.488911Z",
          "start_time": "2022-10-21T00:33:48.460787Z"
        },
        "id": "73c1fb1f"
      },
      "outputs": [],
      "source": [
        "sgidf_['timezn_div_cd'] = sgidf_['timezn_div_cd'].apply(lambda x : x[:1])\n",
        "cdrdf_['timezn_div_cd'] = cdrdf_['timezn_div_cd'].apply(lambda x : x[:1])\n",
        "s1apdf_['timezn_div_cd'] = s1apdf_['timezn_div_cd'].apply(lambda x : x[:1])\n",
        "\n",
        "sgidf_['base_date'] = sgidf_['base_date'].astype(str)\n",
        "cdrdf_['base_date'] = cdrdf_['base_date'].astype(str)\n",
        "s1apdf_['base_date'] = s1apdf_['base_date'].apply(lambda x : x[:4] + '-' + x[4:6] + '-' + x[6:])"
      ]
    },
    {
      "cell_type": "code",
      "execution_count": null,
      "id": "616a4d71",
      "metadata": {
        "id": "616a4d71"
      },
      "outputs": [],
      "source": []
    },
    {
      "cell_type": "markdown",
      "id": "7416c300",
      "metadata": {
        "id": "7416c300"
      },
      "source": [
        "## example "
      ]
    },
    {
      "cell_type": "code",
      "execution_count": null,
      "id": "5a2e0164",
      "metadata": {
        "ExecuteTime": {
          "end_time": "2022-10-21T00:33:48.668420Z",
          "start_time": "2022-10-21T00:33:48.490660Z"
        },
        "id": "5a2e0164"
      },
      "outputs": [],
      "source": [
        "display(sgidf_.head(1))\n",
        "display(cdrdf_.head(1))\n",
        "display(s1apdf_.head(1))\n",
        "\n",
        "gc.collect()"
      ]
    },
    {
      "cell_type": "markdown",
      "id": "0f656d0a",
      "metadata": {
        "ExecuteTime": {
          "end_time": "2022-09-29T01:46:42.007373Z",
          "start_time": "2022-09-29T01:46:41.997911Z"
        },
        "id": "0f656d0a"
      },
      "source": [
        "## feature  "
      ]
    },
    {
      "cell_type": "markdown",
      "id": "4e024589",
      "metadata": {
        "id": "4e024589"
      },
      "source": [
        "### sgi "
      ]
    },
    {
      "cell_type": "code",
      "execution_count": null,
      "id": "a783df16",
      "metadata": {
        "ExecuteTime": {
          "end_time": "2022-10-21T00:33:48.734214Z",
          "start_time": "2022-10-21T00:33:48.674154Z"
        },
        "id": "a783df16"
      },
      "outputs": [],
      "source": [
        "# min-max scaler \n",
        "sgidf_['rel_value'] = (sgidf_['byte_size'] - sgidf_['byte_size'].min(axis=0)) / (sgidf_['byte_size'].max(axis=0) - sgidf_['byte_size'].min(axis=0))\n",
        "sgidf_['sgi_behavior'] = sgidf_['timezn_div_cd'] + '_' + sgidf_['svc_nm']\n",
        "\n",
        "sgidf_"
      ]
    },
    {
      "cell_type": "code",
      "execution_count": null,
      "id": "a00a1242",
      "metadata": {
        "ExecuteTime": {
          "end_time": "2022-10-21T00:33:48.748101Z",
          "start_time": "2022-10-21T00:33:48.738546Z"
        },
        "id": "a00a1242"
      },
      "outputs": [],
      "source": [
        "sgidf_['rel_value'] + 1"
      ]
    },
    {
      "cell_type": "code",
      "execution_count": null,
      "id": "dfa754fe",
      "metadata": {
        "ExecuteTime": {
          "end_time": "2022-10-21T00:33:48.843750Z",
          "start_time": "2022-10-21T00:33:48.751048Z"
        },
        "id": "dfa754fe"
      },
      "outputs": [],
      "source": [
        "timezn_sgi = collections.defaultdict(str)\n",
        "for day in sorted(sgidf_['timezn_div_cd'].unique()):\n",
        "    timezn_sgi[day] = sgidf_[sgidf_['timezn_div_cd'] == day]['svc_nm'].value_counts().to_dict()\n",
        "    for itr, app in enumerate(list(timezn_sgi[day].keys())):\n",
        "        appvalue = abs(np.log(timezn_sgi[day][list(timezn_sgi[day].keys())[itr]] / sum(timezn_sgi[day].values())))\n",
        "        timezn_sgi[day][app] = appvalue\n",
        "\n",
        "timezndf_sgi = collections.defaultdict(pd.DataFrame)\n",
        "\n",
        "for day in list(timezn_sgi.keys()):\n",
        "    timezndf_sgi[day] = pd.DataFrame(sgidf_[sgidf_['timezn_div_cd'] == day].svc_nm.apply(lambda x : timezn_sgi[day][x]))\n",
        "    \n",
        "timezn_index = pd.concat(timezndf_sgi).reset_index().set_index('level_1')\n",
        "sgidf_ = pd.merge(sgidf_, timezn_index , left_index=True, right_index=True, how='inner')\n",
        "sgidf_ = sgidf_.rename(columns={'svc_nm_y':'rel_value_2'})"
      ]
    },
    {
      "cell_type": "markdown",
      "id": "14b01edf",
      "metadata": {
        "id": "14b01edf"
      },
      "source": [
        "### cdr "
      ]
    },
    {
      "cell_type": "code",
      "execution_count": null,
      "id": "d430a3e2",
      "metadata": {
        "ExecuteTime": {
          "end_time": "2022-10-21T00:33:48.860071Z",
          "start_time": "2022-10-21T00:33:48.846205Z"
        },
        "id": "d430a3e2"
      },
      "outputs": [],
      "source": [
        "# 수신 전화 대비 송신 전화를 해당 업종에 대한 관심척도로 측정.\n",
        "## 나눗셈 시 0으로 되는걸 방지하기위해 엡실론 값 혹은 1 부여\n",
        "## method 1 , 엡실론\n",
        "#epsilon = np.finfo(float).eps\n",
        "#cdrdf[['rcv_tlk_time','snd_tlk_time']].apply(lambda x : x + epsilon)\n",
        "## method 2, 1부여\n",
        "cdrdf_[['rcv_tlk_time','snd_tlk_time']] = cdrdf_[['rcv_tlk_time','snd_tlk_time']].apply(lambda x : x + 1)\n",
        "cdrdf_['rel_value'] = (lambda x,y : np.round( x / y , 2) + 100)(cdrdf_['snd_tlk_time'], cdrdf_['rcv_tlk_time'])\n",
        "#cdrdf_['cdr_behavior'] = cdrdf_['timezn_div_cd'] + '_' + cdrdf_['tpn114_ttsctg_cd']\n",
        "cdrdf_['cdr_behavior'] = cdrdf_['timezn_div_cd'] + '_' + cdrdf_['tpn114_tsctg_nm']\n",
        "cdrdf_['rel_value_2'] = cdrdf_['rel_value'].copy()"
      ]
    },
    {
      "cell_type": "markdown",
      "id": "fd1e5a43",
      "metadata": {
        "id": "fd1e5a43"
      },
      "source": [
        "### s1ap "
      ]
    },
    {
      "cell_type": "code",
      "execution_count": null,
      "id": "22454222",
      "metadata": {
        "ExecuteTime": {
          "end_time": "2022-10-21T00:33:48.913450Z",
          "start_time": "2022-10-21T00:33:48.862527Z"
        },
        "id": "22454222"
      },
      "outputs": [],
      "source": [
        "s1apdf_['stay_time'] = s1apdf_['stay_time'].apply(lambda x : float(x))\n",
        "# rel_value 는 체류시간을 기준으로 만들어짐.\n",
        "s1apdf_['rel_value'] = (s1apdf_.stay_time - s1apdf_.stay_time.min(axis=0)) / (s1apdf_.stay_time.max(axis=0) - s1apdf_.stay_time.min(axis=0)) + 1000\n",
        "s1apdf_['s1ap_behavior'] = s1apdf_['timezn_div_cd'] + '_' + s1apdf_['address']\n",
        "\n",
        "# rel_value_2는 특정 시간대에 갔던 장소 cnt 기준으로 만들어짐.\n",
        "# ex) user '이유' 는 주로 A 시간대에 '광화문','합정' 에 갔었다. 어느날 일정이 생겨 '정릉'에 가게 되면 \n",
        "# 특정 이벤트라 지각하여 weight를 높게 측정함.\n",
        "timezntest = collections.defaultdict(str)\n",
        "for day in sorted(s1apdf_['timezn_div_cd'].unique()):\n",
        "    timezntest[day] = s1apdf_[s1apdf_['timezn_div_cd'] == day]['address'].value_counts().to_dict()\n",
        "    for itr, dong in enumerate(list(timezntest[day].keys())):\n",
        "        dongvalue = abs(np.log(timezntest[day][list(timezntest[day].keys())[itr]] / sum(timezntest[day].values())))\n",
        "        timezntest[day][dong] = dongvalue\n",
        "\n",
        "timezndf = collections.defaultdict(pd.DataFrame)\n",
        "\n",
        "for day in list(timezntest.keys()):\n",
        "    timezndf[day] = pd.DataFrame(s1apdf_[s1apdf_['timezn_div_cd'] == day].address.apply(lambda x : timezntest[day][x]))\n",
        "    \n",
        "timezn_index = pd.concat(timezndf).reset_index().set_index('level_1')\n",
        "s1apdf_ = pd.merge(s1apdf_, timezn_index , left_index=True, right_index=True, how='inner')\n",
        "s1apdf_ = s1apdf_.rename(columns={'address_y':'rel_value_2'})\n",
        "s1apdf_['rel_value_2'] = s1apdf_['rel_value_2'] + 1000"
      ]
    },
    {
      "cell_type": "markdown",
      "id": "98a4c5e4",
      "metadata": {
        "id": "98a4c5e4"
      },
      "source": [
        "#### TODO LIST ####\n",
        "\n",
        "df 들간의 base date 가 불일치하여, 특정 데이터프레임 일자 기준으로 그래프를 생성해야 함.\n",
        "\n",
        "각 데이터 프레임의 basedate nunique값을 참고하여, \n",
        "\n",
        "가장 높은 cnt를 지닌 data frame 추출 그리고 타 데이터들의 기준으로 만드는 함수 생성.\n",
        "\n",
        "\n",
        "####"
      ]
    },
    {
      "cell_type": "markdown",
      "id": "990db339",
      "metadata": {
        "id": "990db339"
      },
      "source": [
        "## network generation "
      ]
    },
    {
      "cell_type": "code",
      "execution_count": null,
      "id": "6e8ac37b",
      "metadata": {
        "ExecuteTime": {
          "end_time": "2022-10-21T00:33:48.919077Z",
          "start_time": "2022-10-21T00:33:48.915720Z"
        },
        "id": "6e8ac37b"
      },
      "outputs": [],
      "source": [
        "# version ['generation', 'anomaly']\n",
        "version = 'anomaly'"
      ]
    },
    {
      "cell_type": "code",
      "execution_count": null,
      "id": "ed9d141c",
      "metadata": {
        "ExecuteTime": {
          "end_time": "2022-10-21T00:33:49.665268Z",
          "start_time": "2022-10-21T00:33:48.921731Z"
        },
        "id": "ed9d141c"
      },
      "outputs": [],
      "source": [
        "if version == 'generation':\n",
        "    #del daygraph_sgi\n",
        "    daygraph_sgi = collections.defaultdict(nx.MultiGraph)\n",
        "    for day in tqdm(sorted(sgidf_['base_date'].unique())):\n",
        "        G = nx.from_pandas_edgelist(df = sgidf_[sgidf_['base_date'] == day][['cust_pty_sbt_id',\\\n",
        "                                                         'sgi_behavior',\n",
        "                                                         'rel_value']],\n",
        "                                    source = 'cust_pty_sbt_id',\n",
        "                                    target = 'sgi_behavior',\n",
        "                                    edge_attr = 'rel_value')\n",
        "        daygraph_sgi[day] = G\n",
        "else:\n",
        "        #del daygraph_sgi\n",
        "    daygraph_sgi = collections.defaultdict(nx.MultiGraph)\n",
        "    for day in tqdm(sorted(sgidf_['base_date'].unique())):\n",
        "        G = nx.from_pandas_edgelist(df = sgidf_[sgidf_['base_date'] == day][['cust_pty_sbt_id',\\\n",
        "                                                         'sgi_behavior',\n",
        "                                                         'rel_value_2']],\n",
        "                                    source = 'cust_pty_sbt_id',\n",
        "                                    target = 'sgi_behavior',\n",
        "                                    edge_attr = 'rel_value_2')\n",
        "        daygraph_sgi[day] = G"
      ]
    },
    {
      "cell_type": "code",
      "execution_count": null,
      "id": "e8da003c",
      "metadata": {
        "ExecuteTime": {
          "end_time": "2022-10-21T00:33:50.057144Z",
          "start_time": "2022-10-21T00:33:49.667304Z"
        },
        "id": "e8da003c"
      },
      "outputs": [],
      "source": [
        "#del daygraph_s1ap\n",
        "if version == 'generation':\n",
        "    s1apxsgi_daylist = list(set(s1apdf_['base_date']).intersection(sgidf_['base_date'].unique()))\n",
        "    daygraph_s1ap = collections.defaultdict(nx.Graph)\n",
        "    for day in tqdm(sorted(s1apxsgi_daylist)):\n",
        "        G = nx.from_pandas_edgelist(df = s1apdf_[s1apdf_['base_date'] == day][['cust_pty_sbt_id',\\\n",
        "                                                         's1ap_behavior',\n",
        "                                                         'rel_value']],\n",
        "                                    source = 'cust_pty_sbt_id',\n",
        "                                    target = 's1ap_behavior',\n",
        "                                    edge_attr = 'rel_value')\n",
        "        daygraph_s1ap[day] = G\n",
        "else:\n",
        "    s1apxsgi_daylist = list(set(s1apdf_['base_date']).intersection(sgidf_['base_date'].unique()))\n",
        "    daygraph_s1ap = collections.defaultdict(nx.Graph)\n",
        "    for day in tqdm(sorted(s1apxsgi_daylist)):\n",
        "        G = nx.from_pandas_edgelist(df = s1apdf_[s1apdf_['base_date'] == day][['cust_pty_sbt_id',\\\n",
        "                                                         's1ap_behavior',\n",
        "                                                         'rel_value_2']],\n",
        "                                    source = 'cust_pty_sbt_id',\n",
        "                                    target = 's1ap_behavior',\n",
        "                                    edge_attr = 'rel_value_2')\n",
        "        daygraph_s1ap[day] = G"
      ]
    },
    {
      "cell_type": "code",
      "execution_count": null,
      "id": "97cde9bf",
      "metadata": {
        "ExecuteTime": {
          "end_time": "2022-10-21T00:33:50.211132Z",
          "start_time": "2022-10-21T00:33:50.059612Z"
        },
        "id": "97cde9bf"
      },
      "outputs": [],
      "source": [
        "#del daygraph_cdr\n",
        "if version == 'generation':\n",
        "    cdrxsgi_daylist = list(set(cdrdf_['base_date']).intersection(sgidf_['base_date'].unique()))\n",
        "    daygraph_cdr = collections.defaultdict(nx.Graph)\n",
        "    for day in tqdm(sorted(cdrxsgi_daylist)):\n",
        "        G = nx.from_pandas_edgelist(df = cdrdf_[cdrdf_['base_date'] == day][['cust_pty_sbt_id',\\\n",
        "                                                         'cdr_behavior',\n",
        "                                                         'rel_value']],\n",
        "                                    source = 'cust_pty_sbt_id',\n",
        "                                    target = 'cdr_behavior',\n",
        "                                    edge_attr = 'rel_value')\n",
        "        daygraph_cdr[day] = G\n",
        "else:\n",
        "    cdrxsgi_daylist = list(set(cdrdf_['base_date']).intersection(sgidf_['base_date'].unique()))\n",
        "    daygraph_cdr = collections.defaultdict(nx.Graph)\n",
        "    for day in tqdm(sorted(cdrxsgi_daylist)):\n",
        "        G = nx.from_pandas_edgelist(df = cdrdf_[cdrdf_['base_date'] == day][['cust_pty_sbt_id',\\\n",
        "                                                         'cdr_behavior',\n",
        "                                                         'rel_value_2']],\n",
        "                                    source = 'cust_pty_sbt_id',\n",
        "                                    target = 'cdr_behavior',\n",
        "                                    edge_attr = 'rel_value_2')\n",
        "        daygraph_cdr[day] = G"
      ]
    },
    {
      "cell_type": "markdown",
      "id": "60010902",
      "metadata": {
        "id": "60010902"
      },
      "source": [
        "## network merge"
      ]
    },
    {
      "cell_type": "code",
      "execution_count": null,
      "id": "01f8a8f4",
      "metadata": {
        "ExecuteTime": {
          "end_time": "2022-10-21T00:33:58.646814Z",
          "start_time": "2022-10-21T00:33:50.213161Z"
        },
        "id": "01f8a8f4"
      },
      "outputs": [],
      "source": [
        "from tqdm import tqdm\n",
        "graphbox = collections.defaultdict(nx.MultiGraph)\n",
        "# graph compose 의 기준은 date,\n",
        "# 행동 교집합을 추출 및 하나의 그래프로 합치기 위하여 기준인 date\n",
        "# 가장 빈번하게 발생하는 sgi를 기준으로 date list 를 생성 및 compose\n",
        "daylist = sgidf_['base_date'].values\n",
        "try:\n",
        "    for day in tqdm(daylist):\n",
        "        graphbox[day] = nx.compose_all([daygraph_sgi[day],\n",
        "                       daygraph_cdr[day],\n",
        "                       daygraph_s1ap[day]])\n",
        "except:\n",
        "    print(day)"
      ]
    },
    {
      "cell_type": "markdown",
      "id": "4f0cd592",
      "metadata": {
        "id": "4f0cd592"
      },
      "source": [
        "# algorithm"
      ]
    },
    {
      "cell_type": "markdown",
      "id": "5f11a512",
      "metadata": {
        "id": "5f11a512"
      },
      "source": [
        "## model architecrure "
      ]
    },
    {
      "cell_type": "markdown",
      "id": "86364a1b",
      "metadata": {
        "id": "86364a1b"
      },
      "source": [
        "## feature extractor"
      ]
    },
    {
      "cell_type": "code",
      "execution_count": null,
      "id": "493deeff",
      "metadata": {
        "ExecuteTime": {
          "end_time": "2022-10-21T00:33:58.662345Z",
          "start_time": "2022-10-21T00:33:58.649088Z"
        },
        "id": "493deeff"
      },
      "outputs": [],
      "source": [
        "class WeisfeilerLehmanMachine:\n",
        "    '''\n",
        "    Weisfeiler Lehman feature extractor class.\n",
        "    '''\n",
        "    def __init__(self, graph, features, iterations):\n",
        "        '''\n",
        "        Initialization method which also executes feature extraction.\n",
        "        graph(networkx.graph): The Nx graph object.\n",
        "        features(hashvalue): Feature hash table.\n",
        "        iterations(int): Number of WL iterations.\n",
        "        '''\n",
        "        self.graph = graph\n",
        "        self.nodes = self.graph.nodes()\n",
        "        self.features = features\n",
        "        self.extracted_features = [str(v) for k, v in features.items()]\n",
        "        self.iterations = iterations\n",
        "        self.do_recursions()\n",
        "        \n",
        "    def do_a_recursion(self):\n",
        "        '''\n",
        "        The method does a single WL recursion.\n",
        "        :return new_features: The hash table with extracted WL features.\n",
        "        '''\n",
        "        new_features = {}\n",
        "        for node in self.nodes:\n",
        "            # 그래프의 이웃들을 리스트로 가져옴.\n",
        "            nebs = self.graph.neighbors(node)\n",
        "            # 이웃들의 feature 추출\n",
        "            degs = [self.features[neb] for neb in nebs]\n",
        "            # 이웃들의 feature 와 기존 가지고 있던 ego-node의 feature을 결합함\n",
        "            ## ex) ego-node ; '정이태' - 남자 ㆍ 일반인 특성 + 이웃 ; '이지은' 의 여자 ㆍ 가수 특성 \n",
        "            features = [str(self.features[node])] + sorted([str(deg) for deg in degs])\n",
        "            features = '_'.join(features)\n",
        "            # feature 값들을 hashlib 활용하여 emb\n",
        "            ## hsahlib 는 MD5, SHA256 등의 알고리즘으로 문자열을 해싱(hashing)할 때 사용하는 모듈이다.\n",
        "            hash_object = hashlib.md5(features.encode())\n",
        "            hashing = hash_object.hexdigest()\n",
        "            new_features[node] = hashing\n",
        "        self.extracted_features = self.extracted_features + list(new_features.values())\n",
        "        return new_features\n",
        "    \n",
        "    def do_recursions(self):\n",
        "        '''\n",
        "        The method does a series of WL recursion.\n",
        "        '''\n",
        "        for _ in range(self.iterations):\n",
        "            self.features = self.do_a_recursion()"
      ]
    },
    {
      "cell_type": "markdown",
      "id": "103246ea",
      "metadata": {
        "id": "103246ea"
      },
      "source": [
        "##  graph2doc"
      ]
    },
    {
      "cell_type": "code",
      "execution_count": null,
      "id": "ef5c744b",
      "metadata": {
        "ExecuteTime": {
          "end_time": "2022-10-21T00:33:58.667977Z",
          "start_time": "2022-10-21T00:33:58.664557Z"
        },
        "id": "ef5c744b"
      },
      "outputs": [],
      "source": [
        "# 알고리즘 코드\n",
        "def feature_extractor(day, rounds):\n",
        "    G, featuers, day = dataset_preprocess(day)\n",
        "    machine = WeisfeilerLehmanMachine(G, features, rounds)\n",
        "    doc = TaggedDocument(words=machine.extracted_features, tags=[day])\n",
        "    return doc"
      ]
    },
    {
      "cell_type": "markdown",
      "id": "459b0717",
      "metadata": {
        "id": "459b0717"
      },
      "source": [
        "## standard for algorithm"
      ]
    },
    {
      "cell_type": "code",
      "execution_count": null,
      "id": "209ca7b6",
      "metadata": {
        "ExecuteTime": {
          "end_time": "2022-10-21T00:33:58.677672Z",
          "start_time": "2022-10-21T00:33:58.669887Z"
        },
        "id": "209ca7b6"
      },
      "outputs": [],
      "source": [
        "def dataset_preprocess(day, feat = 'closeness', version= 'generation'):\n",
        "    '''\n",
        "    Function to read the graph and features\n",
        "    '''\n",
        "    import networkx as nx\n",
        "    G = graphbox[day]\n",
        "    \n",
        "    if feat == 'closeness':\n",
        "        # closeness \n",
        "        features = {k: v for k , v in nx.closeness_centrality(G, distance='rel_value').items()}\n",
        "    elif feat == 'vanilla': \n",
        "        # only use the rel value \n",
        "        features = collections.defaultdict()\n",
        "        features[cust_id] = 0\n",
        "        for itr in range(len(G.edges())):\n",
        "            if version == 'generation':\n",
        "            # version 1\n",
        "                features[list(G.edges(data=True))[itr][1]] = list(G.edges(data=True))[itr][2]['rel_value']\n",
        "            # version 2\n",
        "            elif version == 'anomaly':\n",
        "                features[list(G.edges(data=True))[itr][1]] = list(G.edges(data=True))[itr][2]['rel_value_2']\n",
        "            else:\n",
        "                print('enter the version')\n",
        "    else:\n",
        "        # original version of graph2vec\n",
        "        features = {k : v for k , v in dict(nx.degree(G)).items()}\n",
        "    \n",
        "    return G, features, day"
      ]
    },
    {
      "cell_type": "markdown",
      "id": "a5c9fd02",
      "metadata": {
        "id": "a5c9fd02"
      },
      "source": [
        "### parameters "
      ]
    },
    {
      "cell_type": "code",
      "execution_count": null,
      "id": "15ce81a2",
      "metadata": {
        "ExecuteTime": {
          "end_time": "2022-10-21T00:33:58.682684Z",
          "start_time": "2022-10-21T00:33:58.679545Z"
        },
        "id": "15ce81a2"
      },
      "outputs": [],
      "source": [
        "## vector_size ; number of dimension\n",
        "## workers ; number of workers.(resource)\n",
        "## epochs ; number of training epochs.\n",
        "## min-count ; Minimal feature count to keep.\n",
        "## alpha ; Initial learning rate.\n",
        "## sample ; Down sampling rate for frequent features.\n",
        "\n",
        "# dm ; Defines the training algorithm ; dm =1 -> 'distributed memory' otherwise, pbow\n",
        "parameters = {'vector_size' : 1,\n",
        "              'workers' : 8,\n",
        "              'epochs' : 1,\n",
        "              'min_count' : 0,\n",
        "              'alpha' : 0.025,\n",
        "              'sample' : 0.0001,\n",
        "              'window' : 5, #fixed\n",
        "               'dm' : 0, #fixed\n",
        "              'rounds': 2\n",
        "            }"
      ]
    },
    {
      "cell_type": "code",
      "execution_count": null,
      "id": "52c13f29",
      "metadata": {
        "ExecuteTime": {
          "end_time": "2022-10-21T00:34:06.055502Z",
          "start_time": "2022-10-21T00:33:58.684571Z"
        },
        "id": "52c13f29"
      },
      "outputs": [],
      "source": [
        "# rounds 가 증가할수록 feature의 갯수가 늘어나므로, cost가 커짐.\n",
        "\n",
        "from tqdm import tqdm\n",
        "document_collections = collections.defaultdict(str)\n",
        "for i in tqdm(range(len(graphbox))):\n",
        "    G , features , day = dataset_preprocess(list(graphbox.keys())[i], feat = 'vanilla', version=version)\n",
        "    # print(feature_extractor(list(graphbox.keys())[i], rounds=10))\n",
        "    document_collections[day] = feature_extractor(list(graphbox.keys())[i], rounds=parameters['rounds'])\n",
        "\n",
        "print(f\"{len(document_collections[random.choice(daylist)].words)} is the {parameters['rounds']} round\")"
      ]
    },
    {
      "cell_type": "markdown",
      "id": "8626d841",
      "metadata": {
        "id": "8626d841"
      },
      "source": [
        "## doc2vec training"
      ]
    },
    {
      "cell_type": "code",
      "execution_count": null,
      "id": "d871c625",
      "metadata": {
        "ExecuteTime": {
          "end_time": "2022-10-21T00:34:33.951937Z",
          "start_time": "2022-10-21T00:34:06.063564Z"
        },
        "id": "d871c625"
      },
      "outputs": [],
      "source": [
        "doc = [v for _ , v in document_collections.items()]\n",
        "\n",
        "# before training, we check the fact which is the matching size of both graph and document\n",
        "assert len(graphbox) == len(doc)\n",
        "\n",
        "model= Doc2Vec(doc,\n",
        "               vector_size = parameters['vector_size'],\n",
        "               dm = parameters['dm'],\n",
        "              workers = parameters['workers'],\n",
        "              min_count = parameters['min_count'],\n",
        "              window = parameters['window'],\n",
        "              epochs = parameters['epochs'],\n",
        "              alpha = parameters['alpha'],\n",
        "             )"
      ]
    },
    {
      "cell_type": "markdown",
      "id": "f54854c3",
      "metadata": {
        "id": "f54854c3"
      },
      "source": [
        "## chart for check the distribution of user behavior (vector)"
      ]
    },
    {
      "cell_type": "code",
      "execution_count": null,
      "id": "7c39ebb2",
      "metadata": {
        "ExecuteTime": {
          "end_time": "2022-10-21T00:34:33.966156Z",
          "start_time": "2022-10-21T00:34:33.956931Z"
        },
        "id": "7c39ebb2"
      },
      "outputs": [],
      "source": [
        "def vector_compression(method = 'max', n_components=None):\n",
        "    if method == 'max':\n",
        "        vector = [list(vectors_dict.values())[itr].max() for itr in range(len(vectors_dict))]\n",
        "    elif method == 'min':\n",
        "        vector = [list(vectors_dict.values())[itr].min() for itr in range(len(vectors_dict))]\n",
        "    elif method == 'mean':\n",
        "        vector = [list(vectors_dict.values())[itr].mean() for itr in range(len(vectors_dict))]\n",
        "    elif method == 'tsne':\n",
        "        vector = tsne.fit_transform(np.array(list(vectors_dict.values())).reshape(-1,1))\n",
        "    elif method == 'pca':\n",
        "        vector = pca.fit_transform(np.array(list(vectors_dict.values())).reshape(-1,1))\n",
        "    else:\n",
        "        print('plz input your method')\n",
        "        method = input(str)\n",
        "        vector_compression(method)\n",
        "    return vector"
      ]
    },
    {
      "cell_type": "code",
      "execution_count": null,
      "id": "511afe56",
      "metadata": {
        "ExecuteTime": {
          "end_time": "2022-10-21T00:34:33.997444Z",
          "start_time": "2022-10-21T00:34:33.968434Z"
        },
        "id": "511afe56"
      },
      "outputs": [],
      "source": [
        "vectors_dict = collections.defaultdict(float)\n",
        "try:\n",
        "    for itr in tqdm(range(0, len(doc))):\n",
        "        vectors_dict[sorted(list(graphbox.keys()))[itr]] = model.__getitem__(sorted(list(graphbox.keys()))[itr])\n",
        "except:\n",
        "    pass\n",
        "\n",
        "## x축 날짜 한달 단위로 보기위해 handling\n",
        "# xticks \n",
        "daylist_viz = list(pd.date_range(start = sorted(sgidf_.base_date.unique())[0],\n",
        "              end = sorted(sgidf_.base_date.unique())[-1],\n",
        "             freq='M').strftime('%Y-%m-%d'))\n",
        "\n",
        "daylist_viz.insert(0, list(vectors_dict.keys())[0])"
      ]
    },
    {
      "cell_type": "markdown",
      "id": "cd937762",
      "metadata": {
        "id": "cd937762"
      },
      "source": [
        "### vector max version"
      ]
    },
    {
      "cell_type": "code",
      "execution_count": null,
      "id": "7c5bd505",
      "metadata": {
        "ExecuteTime": {
          "end_time": "2022-10-21T00:34:34.319076Z",
          "start_time": "2022-10-21T00:34:33.999441Z"
        },
        "id": "7c5bd505"
      },
      "outputs": [],
      "source": [
        "vector = vector_compression(method = 'max')\n",
        "\n",
        "plt.figure(figsize=(15,8))\n",
        "plt.plot(vectors_dict.keys(), vector, color='red', marker='o')\n",
        "plt.title(f'{cust_id} behavior pattern of SGI ', fontsize=14)\n",
        "plt.xticks(daylist_viz, rotation=45) #datelist\n",
        "plt.xlabel('date', fontsize=12)\n",
        "plt.ylabel('vectors', fontsize=12)\n",
        "\n",
        "plt.grid(True)\n",
        "plt.show()"
      ]
    },
    {
      "cell_type": "markdown",
      "id": "6c49e113",
      "metadata": {
        "id": "6c49e113"
      },
      "source": [
        "### vector min version "
      ]
    },
    {
      "cell_type": "code",
      "execution_count": null,
      "id": "0683f53e",
      "metadata": {
        "ExecuteTime": {
          "end_time": "2022-10-21T00:34:34.722973Z",
          "start_time": "2022-10-21T00:34:34.321506Z"
        },
        "id": "0683f53e"
      },
      "outputs": [],
      "source": [
        "vector = vector_compression(method = 'min')\n",
        "\n",
        "plt.figure(figsize=(15,8))\n",
        "plt.plot(vectors_dict.keys(), vector, color='red', marker='o')\n",
        "plt.title(f'{cust_id} behavior pattern of SGI ', fontsize=14)\n",
        "plt.xticks(daylist_viz, rotation=45) #datelist\n",
        "plt.xlabel('date', fontsize=12)\n",
        "plt.ylabel('vectors', fontsize=12)\n",
        "\n",
        "plt.grid(True)\n",
        "plt.show()"
      ]
    },
    {
      "cell_type": "markdown",
      "id": "7c42711e",
      "metadata": {
        "id": "7c42711e"
      },
      "source": [
        "### vector mean version"
      ]
    },
    {
      "cell_type": "code",
      "execution_count": null,
      "id": "f32090fd",
      "metadata": {
        "ExecuteTime": {
          "end_time": "2022-10-21T00:34:35.019222Z",
          "start_time": "2022-10-21T00:34:34.725677Z"
        },
        "id": "f32090fd"
      },
      "outputs": [],
      "source": [
        "vector = vector_compression(method = 'mean')\n",
        "\n",
        "plt.figure(figsize=(15,8))\n",
        "plt.plot(vectors_dict.keys(), vector, color='red', marker='o')\n",
        "plt.title(f'{cust_id} behavior pattern of SGI ', fontsize=14)\n",
        "plt.xticks(daylist_viz, rotation=45) #datelist\n",
        "plt.xlabel('date', fontsize=12)\n",
        "plt.ylabel('vectors', fontsize=12)\n",
        "\n",
        "plt.grid(True)\n",
        "plt.show()"
      ]
    },
    {
      "cell_type": "markdown",
      "id": "6c70938d",
      "metadata": {
        "id": "6c70938d"
      },
      "source": [
        "# check difference "
      ]
    },
    {
      "cell_type": "code",
      "execution_count": null,
      "id": "67755a5c",
      "metadata": {
        "ExecuteTime": {
          "end_time": "2022-10-21T00:34:35.026448Z",
          "start_time": "2022-10-21T00:34:35.021151Z"
        },
        "id": "67755a5c"
      },
      "outputs": [],
      "source": [
        "#vectormean = [vectors_dict[list(vectors_dict.keys())[itr]].mean() for itr in range(len(vectors_dict))]\n",
        "vectorday = list(vectors_dict.keys())\n",
        "vectorminus = collections.defaultdict(str)\n",
        "\n",
        "try:\n",
        "    for itr in range(len(vector)):\n",
        "        itr_ = itr+1\n",
        "        vectorminus[(vectorday[itr_],vectorday[itr])]  = abs(vector[itr_] - vector[itr])\n",
        "except:\n",
        "    pass\n",
        "\n",
        "vectorminus_ = sorted(vectorminus.items(), key = lambda item: item[1], reverse=True)"
      ]
    },
    {
      "cell_type": "markdown",
      "id": "983b9f2b",
      "metadata": {
        "id": "983b9f2b"
      },
      "source": [
        "## anomaly"
      ]
    },
    {
      "cell_type": "code",
      "execution_count": null,
      "id": "cdae71bd",
      "metadata": {
        "ExecuteTime": {
          "end_time": "2022-10-21T00:34:35.031490Z",
          "start_time": "2022-10-21T00:34:35.028693Z"
        },
        "id": "cdae71bd"
      },
      "outputs": [],
      "source": [
        "anomaly , normal = 0 , -1\n",
        "nextday , prevday = vectorminus_[anomaly][0]"
      ]
    },
    {
      "cell_type": "code",
      "execution_count": null,
      "id": "b0ee6855",
      "metadata": {
        "ExecuteTime": {
          "end_time": "2022-10-21T00:34:35.046957Z",
          "start_time": "2022-10-21T00:34:35.033735Z"
        },
        "scrolled": false,
        "id": "b0ee6855"
      },
      "outputs": [],
      "source": [
        "print(nextday)\n",
        "sorted(list(graphbox[nextday].edges(data=True)))"
      ]
    },
    {
      "cell_type": "code",
      "execution_count": null,
      "id": "8235fe29",
      "metadata": {
        "ExecuteTime": {
          "end_time": "2022-10-21T00:34:35.066644Z",
          "start_time": "2022-10-21T00:34:35.048824Z"
        },
        "scrolled": false,
        "id": "8235fe29"
      },
      "outputs": [],
      "source": [
        "print(prevday)\n",
        "sorted(list(graphbox[prevday].edges(data=True)))"
      ]
    },
    {
      "cell_type": "code",
      "execution_count": null,
      "id": "4d5f322b",
      "metadata": {
        "ExecuteTime": {
          "end_time": "2022-10-21T00:34:35.070526Z",
          "start_time": "2022-10-21T00:34:35.068417Z"
        },
        "id": "4d5f322b"
      },
      "outputs": [],
      "source": [
        "# 861200 , 의료\n",
        "# 861201 , 병원-내과의원\n",
        "# 431016 , 목욕탕"
      ]
    },
    {
      "cell_type": "markdown",
      "id": "c864ef85",
      "metadata": {
        "id": "c864ef85"
      },
      "source": [
        "## normal"
      ]
    },
    {
      "cell_type": "code",
      "execution_count": null,
      "id": "e5429aca",
      "metadata": {
        "ExecuteTime": {
          "end_time": "2022-10-21T00:34:35.074803Z",
          "start_time": "2022-10-21T00:34:35.072340Z"
        },
        "id": "e5429aca"
      },
      "outputs": [],
      "source": [
        "nextday , prevday = vectorminus_[normal][0]"
      ]
    },
    {
      "cell_type": "code",
      "execution_count": null,
      "id": "fc725307",
      "metadata": {
        "ExecuteTime": {
          "end_time": "2022-10-21T00:34:35.089967Z",
          "start_time": "2022-10-21T00:34:35.076686Z"
        },
        "scrolled": false,
        "id": "fc725307"
      },
      "outputs": [],
      "source": [
        "print(nextday)\n",
        "sorted(list(graphbox[nextday].edges(data=True)))"
      ]
    },
    {
      "cell_type": "code",
      "execution_count": null,
      "id": "2f724123",
      "metadata": {
        "ExecuteTime": {
          "end_time": "2022-10-21T00:34:35.104143Z",
          "start_time": "2022-10-21T00:34:35.091732Z"
        },
        "scrolled": false,
        "id": "2f724123"
      },
      "outputs": [],
      "source": [
        "print(prevday)\n",
        "sorted(list(graphbox[prevday].edges(data=True)))"
      ]
    },
    {
      "cell_type": "code",
      "execution_count": null,
      "id": "ed0270e9",
      "metadata": {
        "ExecuteTime": {
          "end_time": "2022-10-21T00:34:35.111052Z",
          "start_time": "2022-10-21T00:34:35.105926Z"
        },
        "id": "ed0270e9"
      },
      "outputs": [],
      "source": [
        "query = f\"SELECT * FROM tb_wed_com_prof WHERE cust_pty_sbt_id LIKE '%{cust_id}%'\"\n",
        "prof_ = pd.read_sql(query, con=conn)"
      ]
    },
    {
      "cell_type": "code",
      "execution_count": null,
      "id": "66220425",
      "metadata": {
        "ExecuteTime": {
          "end_time": "2022-10-21T00:34:35.123800Z",
          "start_time": "2022-10-21T00:34:35.112835Z"
        },
        "id": "66220425"
      },
      "outputs": [],
      "source": [
        "prof_"
      ]
    },
    {
      "cell_type": "code",
      "execution_count": null,
      "id": "11337039",
      "metadata": {
        "ExecuteTime": {
          "end_time": "2022-10-21T00:42:06.066353Z",
          "start_time": "2022-10-21T00:42:06.003127Z"
        },
        "id": "11337039"
      },
      "outputs": [],
      "source": [
        "vectorminus_"
      ]
    },
    {
      "cell_type": "markdown",
      "id": "4411770b",
      "metadata": {
        "id": "4411770b"
      },
      "source": [
        "# LAB"
      ]
    },
    {
      "cell_type": "markdown",
      "id": "6e40e6f4",
      "metadata": {
        "id": "6e40e6f4"
      },
      "source": [
        "## normalization "
      ]
    },
    {
      "cell_type": "code",
      "execution_count": null,
      "id": "61738d95",
      "metadata": {
        "ExecuteTime": {
          "end_time": "2022-10-21T00:34:35.129936Z",
          "start_time": "2022-10-21T00:34:35.125603Z"
        },
        "id": "61738d95"
      },
      "outputs": [],
      "source": [
        "# hash.hexdigest()\n",
        "## func ; string --> digest_size bytes which may contain non-ASCII characters, including null bytes.\n",
        "## like digest() except the digest is returned as a string of double length, containing only \n",
        "## hexadecimal digits. This may be used to exchange the value safely in email or other non-binary environment.\n",
        "# from hashlib of python documentation.\n",
        "\n",
        "import hashlib\n",
        "\n",
        "text = ['100','200','300','1000','2000','3000','10000','20000','30000']\n",
        "\n",
        "for num in text:\n",
        "    hash_obj = hashlib.md5(num.encode())\n",
        "    hash_result = hash_obj.hexdigest()\n",
        "    print(f'num is {num} -->  hash_result is {hash_result}\\n\\n')"
      ]
    },
    {
      "cell_type": "markdown",
      "id": "c114e8c6",
      "metadata": {
        "id": "c114e8c6"
      },
      "source": [
        "## revalance 1,2 버전 효용성 체크"
      ]
    },
    {
      "cell_type": "code",
      "execution_count": null,
      "id": "1e19ec47",
      "metadata": {
        "ExecuteTime": {
          "end_time": "2022-10-21T00:34:35.150667Z",
          "start_time": "2022-10-21T00:34:35.132201Z"
        },
        "id": "1e19ec47"
      },
      "outputs": [],
      "source": [
        "sgidf_[['timezn_div_cd','sgi_behavior','rel_value_2','rel_value']].sort_values('rel_value_2',ascending=False)[:20]"
      ]
    },
    {
      "cell_type": "code",
      "execution_count": null,
      "id": "c4cbfcce",
      "metadata": {
        "ExecuteTime": {
          "end_time": "2022-10-21T00:34:35.170053Z",
          "start_time": "2022-10-21T00:34:35.152417Z"
        },
        "id": "c4cbfcce"
      },
      "outputs": [],
      "source": [
        "sgidf_[['timezn_div_cd','sgi_behavior','rel_value_2','rel_value']].sort_values('rel_value_2',ascending=False)[-20:]"
      ]
    },
    {
      "cell_type": "markdown",
      "id": "9116e45e",
      "metadata": {
        "id": "9116e45e"
      },
      "source": [
        "### rel_value_2 at E  "
      ]
    },
    {
      "cell_type": "code",
      "execution_count": null,
      "id": "6abec35c",
      "metadata": {
        "ExecuteTime": {
          "end_time": "2022-10-21T00:34:35.205133Z",
          "start_time": "2022-10-21T00:34:35.171820Z"
        },
        "id": "6abec35c"
      },
      "outputs": [],
      "source": [
        "sgidf_[sgidf_['timezn_div_cd'] == 'E'].sort_values('rel_value_2',ascending=False)[:20]"
      ]
    },
    {
      "cell_type": "code",
      "execution_count": null,
      "id": "9edb95a9",
      "metadata": {
        "ExecuteTime": {
          "end_time": "2022-10-21T00:34:35.234274Z",
          "start_time": "2022-10-21T00:34:35.207006Z"
        },
        "id": "9edb95a9"
      },
      "outputs": [],
      "source": [
        "sgidf_[sgidf_['timezn_div_cd'] == 'E'].sort_values('rel_value_2',ascending=False)[-20:]"
      ]
    },
    {
      "cell_type": "code",
      "execution_count": null,
      "id": "0632fb1a",
      "metadata": {
        "ExecuteTime": {
          "end_time": "2022-10-21T01:26:58.102200Z",
          "start_time": "2022-10-21T01:26:58.070909Z"
        },
        "id": "0632fb1a"
      },
      "outputs": [],
      "source": [
        "s1apdf_[['rel_value','rel_value_2','address_x']].sort_values('rel_value_2')[:20]"
      ]
    },
    {
      "cell_type": "markdown",
      "id": "a5bafb98",
      "metadata": {
        "id": "a5bafb98"
      },
      "source": [
        "### rel_value at E "
      ]
    },
    {
      "cell_type": "code",
      "execution_count": null,
      "id": "bb7f2dfa",
      "metadata": {
        "ExecuteTime": {
          "end_time": "2022-10-21T00:34:35.263791Z",
          "start_time": "2022-10-21T00:34:35.236064Z"
        },
        "id": "bb7f2dfa"
      },
      "outputs": [],
      "source": [
        "sgidf_[sgidf_['timezn_div_cd'] == 'E'].sort_values('rel_value',ascending=False)[:20]"
      ]
    },
    {
      "cell_type": "code",
      "execution_count": null,
      "id": "8ef117ba",
      "metadata": {
        "ExecuteTime": {
          "end_time": "2022-10-21T00:34:35.294391Z",
          "start_time": "2022-10-21T00:34:35.265381Z"
        },
        "id": "8ef117ba"
      },
      "outputs": [],
      "source": [
        "sgidf_[sgidf_['timezn_div_cd'] == 'E'].sort_values('rel_value',ascending=False)[-20:]"
      ]
    },
    {
      "cell_type": "markdown",
      "id": "122d2034",
      "metadata": {
        "id": "122d2034"
      },
      "source": [
        "## trouble-shooting"
      ]
    },
    {
      "cell_type": "code",
      "execution_count": null,
      "id": "28cd6027",
      "metadata": {
        "ExecuteTime": {
          "end_time": "2022-10-21T00:34:35.298452Z",
          "start_time": "2022-10-21T00:34:35.296210Z"
        },
        "id": "28cd6027"
      },
      "outputs": [],
      "source": [
        "## trouble shooting code\n",
        "# for itr in range(len(G.edges())):\n",
        "#     features[list(G.edges(data=True))[itr][1]] = list(G.edges(data=True))[itr][2]['rel_value']\n",
        "    \n",
        "# dict_feature = collections.defaultdict(str)\n",
        "# dict_feature[cust_id] = 0\n",
        "# for itr in tqdm(range(len(G.edges()))):\n",
        "#     dict_feature[list(G.edges(data=True))[itr][1]] = list(G.edges(data=True))[itr][2]['rel_value']"
      ]
    },
    {
      "cell_type": "markdown",
      "id": "8551e2dd",
      "metadata": {
        "id": "8551e2dd"
      },
      "source": [
        "## todolist "
      ]
    },
    {
      "cell_type": "markdown",
      "id": "18d46ca4",
      "metadata": {
        "id": "18d46ca4"
      },
      "source": [
        "### network generation func"
      ]
    },
    {
      "cell_type": "code",
      "execution_count": null,
      "id": "040e7477",
      "metadata": {
        "ExecuteTime": {
          "end_time": "2022-10-21T00:34:35.302652Z",
          "start_time": "2022-10-21T00:34:35.300348Z"
        },
        "id": "040e7477"
      },
      "outputs": [],
      "source": [
        "## TODOLIST function 만들기##\n",
        "############################\n",
        "# def network_gen(netdf, source , target , edge_attr , daylist=None):\n",
        "#     daygrpah_netdf = collections.defaultdict(nx.Graph)\n",
        "#     if netdf == sgidf_:\n",
        "#         daylist = sgidf_['base_date'].unique()\n",
        "#     else:\n",
        "#         for day in tqdm(daylist):\n",
        "#             G = nx.from_pandas_edgelist(df=netdf[netdf['base_date'] == day][[source,target,edge_attr]],\\\n",
        "#                                        source = source,\n",
        "#                                        target = target,\n",
        "#                                        edge_attr = [edge_attr])\n",
        "#             daygraph_netdf[day] = G\n",
        "#         return daygraph\n",
        "\n",
        "# network_gen(netdf = sgidf_, source='cust_pty_sbt_id', target='sgi_behavior', edge_attr='sgi_rel_value', daylist = )"
      ]
    },
    {
      "cell_type": "markdown",
      "id": "6dd1c40d",
      "metadata": {
        "id": "6dd1c40d"
      },
      "source": [
        "### datetime auto annotation"
      ]
    },
    {
      "cell_type": "code",
      "execution_count": null,
      "id": "352ce626",
      "metadata": {
        "ExecuteTime": {
          "end_time": "2022-10-21T00:34:35.306584Z",
          "start_time": "2022-10-21T00:34:35.304526Z"
        },
        "id": "352ce626"
      },
      "outputs": [],
      "source": [
        "# ## 함수 보완 필요 datatype 에서 datetime 이 인식 error 발생.\n",
        "# def timefeature(df ,\n",
        "#                 timecolumn='timezn_div_cd',\n",
        "#                 datecolumn='base_date'):\n",
        "    \n",
        "#     df[timecolumn] = df[timecolumn].apply(lambda x : x[:1])\n",
        "#     if type(df[datecolumn][0]) != \"<class 'datetime.date'>\":\n",
        "#         df[datecolumn].apply(lambda x : x[:4] + '-' + x[4:6] + '-' + x[6:])\n",
        "#     else:\n",
        "#         df[datecolumn] = df[datecolumn].map(lambda x : x.strftime('20%y-%m-%d'))\n",
        "    \n",
        "#     return df"
      ]
    },
    {
      "cell_type": "code",
      "execution_count": null,
      "id": "28f2b7f8",
      "metadata": {
        "ExecuteTime": {
          "end_time": "2022-10-21T00:34:35.310669Z",
          "start_time": "2022-10-21T00:34:35.308410Z"
        },
        "id": "28f2b7f8"
      },
      "outputs": [],
      "source": [
        "# def dataset_preprocess(day, feat = 'closeness'):\n",
        "#     '''\n",
        "#     Function to read the graph and features\n",
        "#     '''\n",
        "#     import networkx as nx\n",
        "#     G = graphbox[day]\n",
        "    \n",
        "#     if feat == 'closeness':\n",
        "#         # closeness \n",
        "#         features = {k: v for k , v in nx.closeness_centrality(G, distance='rel_value').items()}\n",
        "#     elif feat == 'vanilla': \n",
        "#         # only use the rel value \n",
        "#         features = {k : v for k , v in enumerate(list(nx.get_edge_attributes(G, 'rel_value').values()))}\n",
        "#     else:\n",
        "#         # original version of graph2vec\n",
        "#         features = nx.degree(G)\n",
        "#         features = {int(k) : v for k, v in enumerate(list(dict(features).values()))}\n",
        "#         features = {int(k) : v for k, v in enumerate(list(dict(nx.degree(G)).values()))}\n",
        "#         features = {k : v for k , v in dict(nx.degree(G)).items()}\n",
        "    \n",
        "#     return G, features, day"
      ]
    },
    {
      "cell_type": "markdown",
      "id": "e22cdf7c",
      "metadata": {
        "id": "e22cdf7c"
      },
      "source": [
        "# lab2"
      ]
    }
  ],
  "metadata": {
    "kernelspec": {
      "display_name": "Python 3",
      "language": "python",
      "name": "python3"
    },
    "language_info": {
      "codemirror_mode": {
        "name": "ipython",
        "version": 3
      },
      "file_extension": ".py",
      "mimetype": "text/x-python",
      "name": "python",
      "nbconvert_exporter": "python",
      "pygments_lexer": "ipython3",
      "version": "3.8.8"
    },
    "toc": {
      "base_numbering": 1,
      "nav_menu": {},
      "number_sections": true,
      "sideBar": true,
      "skip_h1_title": false,
      "title_cell": "Table of Contents",
      "title_sidebar": "Contents",
      "toc_cell": false,
      "toc_position": {},
      "toc_section_display": true,
      "toc_window_display": false
    },
    "colab": {
      "provenance": [],
      "include_colab_link": true
    }
  },
  "nbformat": 4,
  "nbformat_minor": 5
}